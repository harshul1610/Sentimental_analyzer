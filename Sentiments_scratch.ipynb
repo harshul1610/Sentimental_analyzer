{
 "cells": [
  {
   "cell_type": "code",
   "execution_count": 13,
   "metadata": {},
   "outputs": [],
   "source": [
    "import pandas as pd\n",
    "import numpy as np\n",
    "import matplotlib as mpl\n",
    "import matplotlib.pyplot as plt\n",
    "%matplotlib inline\n",
    "import tensorflow as tf\n",
    "import os\n",
    "import re\n",
    "import json\n",
    "from keras.preprocessing.text import text_to_word_sequence"
   ]
  },
  {
   "cell_type": "code",
   "execution_count": 2,
   "metadata": {
    "collapsed": true
   },
   "outputs": [],
   "source": [
    "# Variables \n",
    "train_positive_reviews = []\n",
    "train_negative_reviews = []\n",
    "\n",
    "test_positive_reviews = []\n",
    "test_negative_reviews = []"
   ]
  },
  {
   "cell_type": "code",
   "execution_count": 3,
   "metadata": {
    "collapsed": true
   },
   "outputs": [],
   "source": [
    "for filename_ in os.listdir('aclImdb/train/pos'):\n",
    "    with open(os.path.join('aclImdb/train/pos',filename_),'r') as f:\n",
    "        sentiment = f.read()\n",
    "        train_positive_reviews.append(sentiment)\n",
    "    \n",
    "for filename_ in os.listdir('aclImdb/train/neg'):\n",
    "    with open(os.path.join('aclImdb/train/neg',filename_),'r') as f:\n",
    "        sentiment = f.read()\n",
    "        train_negative_reviews.append(sentiment)\n",
    "    \n",
    "for filename_ in os.listdir('aclImdb/test/pos'):\n",
    "    with open(os.path.join('aclImdb/test/pos',filename_),'r') as f:\n",
    "        sentiment = f.read()\n",
    "        test_positive_reviews.append(sentiment)\n",
    "    \n",
    "for filename_ in os.listdir('aclImdb/test/neg'):\n",
    "    with open(os.path.join('aclImdb/test/neg',filename_),'r') as f:\n",
    "        sentiment = f.read()\n",
    "        test_negative_reviews.append(sentiment)"
   ]
  },
  {
   "cell_type": "code",
   "execution_count": 4,
   "metadata": {
    "collapsed": true
   },
   "outputs": [],
   "source": [
    "train_reviews = train_positive_reviews + train_negative_reviews\n",
    "test_reviews = test_positive_reviews + test_negative_reviews"
   ]
  },
  {
   "cell_type": "code",
   "execution_count": 5,
   "metadata": {
    "collapsed": true
   },
   "outputs": [],
   "source": [
    "train_labels = [0]*len(train_positive_reviews) + [1]*len(train_negative_reviews)\n",
    "test_labels = [0]*len(test_positive_reviews) + [1]*len(test_negative_reviews)"
   ]
  },
  {
   "cell_type": "code",
   "execution_count": 6,
   "metadata": {},
   "outputs": [
    {
     "name": "stdout",
     "output_type": "stream",
     "text": [
      "Number of training reviews:  25000\n",
      "Number of testing reviews:  25000\n",
      "Number of train labels:  25000\n",
      "Number of test labels:  25000\n"
     ]
    }
   ],
   "source": [
    "print 'Number of training reviews: ', len(train_reviews)\n",
    "print 'Number of testing reviews: ', len(test_reviews)\n",
    "print 'Number of train labels: ', len(train_labels)\n",
    "print 'Number of test labels: ', len(test_labels)"
   ]
  },
  {
   "cell_type": "code",
   "execution_count": 7,
   "metadata": {
    "collapsed": true
   },
   "outputs": [],
   "source": [
    "reviews = train_reviews+test_reviews\n",
    "labels = train_labels+test_labels"
   ]
  },
  {
   "cell_type": "code",
   "execution_count": 8,
   "metadata": {
    "collapsed": true
   },
   "outputs": [],
   "source": [
    "reviews_train_df = pd.DataFrame({'reviews': train_reviews, 'sentiment':train_labels})\n",
    "reviews_test_df = pd.DataFrame({'reviews': test_reviews, 'sentiment':test_labels})\n",
    "\n",
    "reviews_train_df = reviews_train_df.sample(frac=1).reset_index(drop=True)\n",
    "reviews_test_df = reviews_test_df.sample(frac=1).reset_index(drop=True)"
   ]
  },
  {
   "cell_type": "code",
   "execution_count": 9,
   "metadata": {},
   "outputs": [
    {
     "name": "stdout",
     "output_type": "stream",
     "text": [
      "                                             reviews  sentiment\n",
      "0  I watched this film on the Hallmark Channel re...          1\n",
      "1  OK, a slasher movie. a very, very stupid slash...          1\n",
      "2  I anticipated the release of the film as much ...          1\n",
      "3  I'm a fan of arty movies, but regretfully I ha...          1\n",
      "4  I've seen this movie more than once. It was on...          0\n",
      "                                             reviews  sentiment\n",
      "0  An opera diva has an accident, which leaves th...          0\n",
      "1  There were at least a half dozen silent-film v...          0\n",
      "2  Of course, how could he. He obviously co-opted...          0\n",
      "3  Anyone familiar with horror films knows that m...          0\n",
      "4  The movie takes place during the year 1940 and...          0\n"
     ]
    }
   ],
   "source": [
    "# 1 for negative and 0 for positive\n",
    "print reviews_train_df.head()\n",
    "print reviews_test_df.head()"
   ]
  },
  {
   "cell_type": "code",
   "execution_count": 14,
   "metadata": {
    "collapsed": true
   },
   "outputs": [],
   "source": [
    "def preprocess(sentence):\n",
    "    list_of_word = text_to_word_sequence(sentence,filters='!\"#$%&()*+,-./:;<=>?@[\\\\]^_`{|}~\\t\\n',\n",
    "                                               lower=True,\n",
    "                                               split=\" \")\n",
    "    return list_of_word"
   ]
  },
  {
   "cell_type": "code",
   "execution_count": 17,
   "metadata": {},
   "outputs": [],
   "source": [
    "reviews_train_df['words_reviews'] = reviews_train_df['reviews'].map(preprocess)\n",
    "reviews_test_df['words_reviews'] = reviews_test_df['reviews'].map(preprocess)"
   ]
  },
  {
   "cell_type": "code",
   "execution_count": 16,
   "metadata": {},
   "outputs": [
    {
     "data": {
      "text/html": [
       "<div>\n",
       "<style>\n",
       "    .dataframe thead tr:only-child th {\n",
       "        text-align: right;\n",
       "    }\n",
       "\n",
       "    .dataframe thead th {\n",
       "        text-align: left;\n",
       "    }\n",
       "\n",
       "    .dataframe tbody tr th {\n",
       "        vertical-align: top;\n",
       "    }\n",
       "</style>\n",
       "<table border=\"1\" class=\"dataframe\">\n",
       "  <thead>\n",
       "    <tr style=\"text-align: right;\">\n",
       "      <th></th>\n",
       "      <th>reviews</th>\n",
       "      <th>sentiment</th>\n",
       "      <th>words_reviews</th>\n",
       "    </tr>\n",
       "  </thead>\n",
       "  <tbody>\n",
       "    <tr>\n",
       "      <th>0</th>\n",
       "      <td>I watched this film on the Hallmark Channel re...</td>\n",
       "      <td>1</td>\n",
       "      <td>[i, watched, this, film, on, the, hallmark, ch...</td>\n",
       "    </tr>\n",
       "    <tr>\n",
       "      <th>1</th>\n",
       "      <td>OK, a slasher movie. a very, very stupid slash...</td>\n",
       "      <td>1</td>\n",
       "      <td>[ok, a, slasher, movie, a, very, very, stupid,...</td>\n",
       "    </tr>\n",
       "    <tr>\n",
       "      <th>2</th>\n",
       "      <td>I anticipated the release of the film as much ...</td>\n",
       "      <td>1</td>\n",
       "      <td>[i, anticipated, the, release, of, the, film, ...</td>\n",
       "    </tr>\n",
       "    <tr>\n",
       "      <th>3</th>\n",
       "      <td>I'm a fan of arty movies, but regretfully I ha...</td>\n",
       "      <td>1</td>\n",
       "      <td>[i'm, a, fan, of, arty, movies, but, regretful...</td>\n",
       "    </tr>\n",
       "    <tr>\n",
       "      <th>4</th>\n",
       "      <td>I've seen this movie more than once. It was on...</td>\n",
       "      <td>0</td>\n",
       "      <td>[i've, seen, this, movie, more, than, once, it...</td>\n",
       "    </tr>\n",
       "  </tbody>\n",
       "</table>\n",
       "</div>"
      ],
      "text/plain": [
       "                                             reviews  sentiment  \\\n",
       "0  I watched this film on the Hallmark Channel re...          1   \n",
       "1  OK, a slasher movie. a very, very stupid slash...          1   \n",
       "2  I anticipated the release of the film as much ...          1   \n",
       "3  I'm a fan of arty movies, but regretfully I ha...          1   \n",
       "4  I've seen this movie more than once. It was on...          0   \n",
       "\n",
       "                                       words_reviews  \n",
       "0  [i, watched, this, film, on, the, hallmark, ch...  \n",
       "1  [ok, a, slasher, movie, a, very, very, stupid,...  \n",
       "2  [i, anticipated, the, release, of, the, film, ...  \n",
       "3  [i'm, a, fan, of, arty, movies, but, regretful...  \n",
       "4  [i've, seen, this, movie, more, than, once, it...  "
      ]
     },
     "execution_count": 16,
     "metadata": {},
     "output_type": "execute_result"
    }
   ],
   "source": [
    "reviews_train_df.head()"
   ]
  },
  {
   "cell_type": "code",
   "execution_count": 18,
   "metadata": {},
   "outputs": [
    {
     "data": {
      "text/html": [
       "<div>\n",
       "<style>\n",
       "    .dataframe thead tr:only-child th {\n",
       "        text-align: right;\n",
       "    }\n",
       "\n",
       "    .dataframe thead th {\n",
       "        text-align: left;\n",
       "    }\n",
       "\n",
       "    .dataframe tbody tr th {\n",
       "        vertical-align: top;\n",
       "    }\n",
       "</style>\n",
       "<table border=\"1\" class=\"dataframe\">\n",
       "  <thead>\n",
       "    <tr style=\"text-align: right;\">\n",
       "      <th></th>\n",
       "      <th>reviews</th>\n",
       "      <th>sentiment</th>\n",
       "      <th>words_reviews</th>\n",
       "    </tr>\n",
       "  </thead>\n",
       "  <tbody>\n",
       "    <tr>\n",
       "      <th>0</th>\n",
       "      <td>An opera diva has an accident, which leaves th...</td>\n",
       "      <td>0</td>\n",
       "      <td>[an, opera, diva, has, an, accident, which, le...</td>\n",
       "    </tr>\n",
       "    <tr>\n",
       "      <th>1</th>\n",
       "      <td>There were at least a half dozen silent-film v...</td>\n",
       "      <td>0</td>\n",
       "      <td>[there, were, at, least, a, half, dozen, silen...</td>\n",
       "    </tr>\n",
       "    <tr>\n",
       "      <th>2</th>\n",
       "      <td>Of course, how could he. He obviously co-opted...</td>\n",
       "      <td>0</td>\n",
       "      <td>[of, course, how, could, he, he, obviously, co...</td>\n",
       "    </tr>\n",
       "    <tr>\n",
       "      <th>3</th>\n",
       "      <td>Anyone familiar with horror films knows that m...</td>\n",
       "      <td>0</td>\n",
       "      <td>[anyone, familiar, with, horror, films, knows,...</td>\n",
       "    </tr>\n",
       "    <tr>\n",
       "      <th>4</th>\n",
       "      <td>The movie takes place during the year 1940 and...</td>\n",
       "      <td>0</td>\n",
       "      <td>[the, movie, takes, place, during, the, year, ...</td>\n",
       "    </tr>\n",
       "  </tbody>\n",
       "</table>\n",
       "</div>"
      ],
      "text/plain": [
       "                                             reviews  sentiment  \\\n",
       "0  An opera diva has an accident, which leaves th...          0   \n",
       "1  There were at least a half dozen silent-film v...          0   \n",
       "2  Of course, how could he. He obviously co-opted...          0   \n",
       "3  Anyone familiar with horror films knows that m...          0   \n",
       "4  The movie takes place during the year 1940 and...          0   \n",
       "\n",
       "                                       words_reviews  \n",
       "0  [an, opera, diva, has, an, accident, which, le...  \n",
       "1  [there, were, at, least, a, half, dozen, silen...  \n",
       "2  [of, course, how, could, he, he, obviously, co...  \n",
       "3  [anyone, familiar, with, horror, films, knows,...  \n",
       "4  [the, movie, takes, place, during, the, year, ...  "
      ]
     },
     "execution_count": 18,
     "metadata": {},
     "output_type": "execute_result"
    }
   ],
   "source": [
    "reviews_test_df.head()"
   ]
  },
  {
   "cell_type": "code",
   "execution_count": null,
   "metadata": {
    "collapsed": true
   },
   "outputs": [],
   "source": []
  }
 ],
 "metadata": {
  "kernelspec": {
   "display_name": "Python 2",
   "language": "python",
   "name": "python2"
  },
  "language_info": {
   "codemirror_mode": {
    "name": "ipython",
    "version": 2
   },
   "file_extension": ".py",
   "mimetype": "text/x-python",
   "name": "python",
   "nbconvert_exporter": "python",
   "pygments_lexer": "ipython2",
   "version": "2.7.12"
  }
 },
 "nbformat": 4,
 "nbformat_minor": 2
}
